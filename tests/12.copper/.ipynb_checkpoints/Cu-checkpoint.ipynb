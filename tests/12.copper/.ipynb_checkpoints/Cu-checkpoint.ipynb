{
 "cells": [
  {
   "cell_type": "markdown",
   "id": "7e33a39f",
   "metadata": {},
   "source": [
    "# Compile create.x with the following OPTIONS File:\n",
    "\n",
    "*# Options for compiling*<br>\n",
    "**SHELL = /bin/bash**\n",
    "\n",
    "*# Choose the COMPILER*<br>\n",
    "**COMPILER = ifort**\n",
    "\n",
    "*# Choose the Linear Algebra libraries*<br>\n",
    "**LINALG = MKL**\n",
    "\n",
    "*# Do you use DEBUG or Optimization Mode? (DEBUG/OPT)*<br>\n",
    "**MODE = OPT**\n",
    "\n",
    "*# Turn on omp or mpi (enter TRUE .or. FALSE)?*<br>\n",
    "**OPENMP = FALSE**<br>\n",
    "**MPI = FALSE**\n",
    "\n",
    "*# Choose the MACHINE file*<br>\n",
    "**MACHINE = HKQAI**\n",
    "\n",
    "*# Choose HORSFIELD or McWEDA*<br>\n",
    "**THEORY = HORSFIELD**\n",
    "\n",
    "*# Choose HARRIS, DOGS, or KS (Kohn-Sham)*<br>\n",
    "*# Note that the KS code only does LDA for now as it uses McWEDA routines.*<br> \n",
    "**SCF = DOGS**\n",
    "\n",
    "*# Choose the DIAGONALIZATION Method - GAMMAD (divide and conquer),*<br>\n",
    "*# KPOINTS, or MDET (also GAMMA) - Default is GAMMA*<br>\n",
    "**DIAGONALIZATION = GAMMAD**\n",
    "\n",
    "*# Choose the XC functional*<br>\n",
    "**XC = BLYP**\n"
   ]
  },
  {
   "cell_type": "markdown",
   "id": "41ccea5d",
   "metadata": {},
   "source": [
    "## Preparation"
   ]
  },
  {
   "cell_type": "code",
   "execution_count": 1,
   "id": "e16adc93",
   "metadata": {},
   "outputs": [],
   "source": [
    "!cd ~/thunder2024/fireball/results/Cu-NP"
   ]
  },
  {
   "cell_type": "code",
   "execution_count": 7,
   "id": "05a0a0ab",
   "metadata": {},
   "outputs": [],
   "source": [
    "# link the Fdata\n",
    "!rm Fdata\n",
    "!ln -s ~/thunder2024/datafiles/Fdata-McWEDA-0.15-3SN.Os3.35p3.80-3SNP.Fes5.30p5.30d4.80.Cus5.10p5.50d4.65-3SN.Gas4.85p5.6 Fdata"
   ]
  },
  {
   "cell_type": "code",
   "execution_count": 8,
   "id": "e4616300",
   "metadata": {},
   "outputs": [],
   "source": [
    "import os\n",
    "import sys\n",
    "import ase\n",
    "import numpy as np\n",
    "\n",
    "from thunder_ase.fireball import Fireball\n",
    "from ase.build import molecule\n",
    "from ase import units\n",
    "\n",
    "# Socket Communication\n",
    "from ase.calculators.socketio import SocketIOCalculator\n",
    "\n",
    "# ase BFGS optimization\n",
    "from ase.optimize import BFGS\n",
    "\n",
    "# ase MD modules\n",
    "from ase.md.npt import NPT\n",
    "from ase.md.nvtberendsen import NVTBerendsen\n",
    "from ase.constraints import Hookean"
   ]
  },
  {
   "cell_type": "markdown",
   "id": "0823d4c5",
   "metadata": {},
   "source": [
    "## NVT Ensemble - Cu Nanoparticle (79 atoms)"
   ]
  },
  {
   "cell_type": "code",
   "execution_count": 9,
   "id": "e5d7d171",
   "metadata": {},
   "outputs": [],
   "source": [
    "# clean last run result\n",
    "!./clean.com"
   ]
  },
  {
   "cell_type": "code",
   "execution_count": 10,
   "id": "90588a28",
   "metadata": {},
   "outputs": [
    {
     "name": "stdout",
     "output_type": "stream",
     "text": [
      " Error in reading from socket\n"
     ]
    },
    {
     "name": "stderr",
     "output_type": "stream",
     "text": [
      " ENDED \n"
     ]
    }
   ],
   "source": [
    "# Read Cu nanoparticle structure\n",
    "atoms = ase.io.read('init-NP.xyz')\n",
    "\n",
    "# Sockets\n",
    "host = 'thunder-ase-Cu-NP'\n",
    "\n",
    "max_step = 100\n",
    "kwargs = {'nstepi':1,\n",
    "          'nstepf':max_step+1,\n",
    "          'efermi_T': 600.0,\n",
    "          'ipi': 1,\n",
    "          'inet': 0,\n",
    "          'host': 'thunder-ase-Cu-NP',\n",
    "          'iwriteout_charges': 1,\n",
    "          }\n",
    "fireball = Fireball(command='./fireball-ase.x', Fdata_path='Fdata', **kwargs)\n",
    "\n",
    "dyn = BFGS(atoms, trajectory='opt.traj', logfile='opt.log')\n",
    "\n",
    "fireball.dynamics(dyn, steps=max_step)    "
   ]
  },
  {
   "cell_type": "code",
   "execution_count": null,
   "id": "f312bcf1",
   "metadata": {},
   "outputs": [],
   "source": []
  }
 ],
 "metadata": {
  "kernelspec": {
   "display_name": "Python 3 (ipykernel)",
   "language": "python",
   "name": "python3"
  },
  "language_info": {
   "codemirror_mode": {
    "name": "ipython",
    "version": 3
   },
   "file_extension": ".py",
   "mimetype": "text/x-python",
   "name": "python",
   "nbconvert_exporter": "python",
   "pygments_lexer": "ipython3",
   "version": "3.9.12"
  }
 },
 "nbformat": 4,
 "nbformat_minor": 5
}
