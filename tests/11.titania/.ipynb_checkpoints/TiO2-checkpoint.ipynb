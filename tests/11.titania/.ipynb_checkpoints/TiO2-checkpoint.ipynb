{
 "cells": [
  {
   "cell_type": "markdown",
   "id": "7e33a39f",
   "metadata": {},
   "source": [
    "# Compile begin.x with the following OPTIONS File:\n",
    "\n",
    "*# Options for compiling*<br>\n",
    "**SHELL = /bin/bash**\n",
    "\n",
    "*# Choose the COMPILER*<br>\n",
    "**COMPILER = ifort**\n",
    "\n",
    "*# Choose the Linear Algebra libraries*<br>\n",
    "**LINALG = MKL**\n",
    "\n",
    "*# Do you use DEBUG or Optimization Mode? (DEBUG/OPT)*<br>\n",
    "**MODE = OPT**\n",
    "\n",
    "*# Turn on omp or mpi (enter TRUE .or. FALSE)?*<br>\n",
    "**OPENMP = FALSE**<br>\n",
    "**MPI = FALSE**\n",
    "\n",
    "*# Choose the MACHINE file*<br>\n",
    "**MACHINE = HKQAI**\n",
    "\n",
    "*# Choose HORSFIELD or McWEDA*<br>\n",
    "**THEORY = MCWEDA**\n",
    "\n",
    "*# Choose HARRIS, DOGS, or KS (Kohn-Sham)*<br>\n",
    "*# Note that the KS code only does LDA for now as it uses McWEDA routines.*<br> \n",
    "**SCF = DOGS**\n",
    "\n",
    "*# Choose the DIAGONALIZATION Method - GAMMAD (divide and conquer),*<br>\n",
    "*# KPOINTS, or MDET (also GAMMA) - Default is GAMMA*<br>\n",
    "**DIAGONALIZATION = GAMMAD**\n",
    "\n",
    "*# Choose the XC functional*<br>\n",
    "**XC = LDA**"
   ]
  },
  {
   "cell_type": "markdown",
   "id": "634e41c2",
   "metadata": {},
   "source": [
    "## Before we run begin.x - make sure that there is a Fdata directory with a /basis sudirectory. Add the pseudopotentials inside of the /basis subdirectory. "
   ]
  },
  {
   "cell_type": "code",
   "execution_count": 1,
   "id": "10d70441",
   "metadata": {},
   "outputs": [],
   "source": [
    "!ls Fdata/basis\n",
    "\n",
    "# Result:\n",
    "# 029.pp  029++.pp"
   ]
  },
  {
   "cell_type": "code",
   "execution_count": 9,
   "id": "9c858487",
   "metadata": {},
   "outputs": [
    {
     "name": "stdout",
     "output_type": "stream",
     "text": [
      "James P. Lewis\r\n",
      "Cu-begin.inp\r\n"
     ]
    }
   ],
   "source": [
    "!more begin.inp\n",
    "\n",
    "# Result:\n",
    "# James P. Lewis\n",
    "# Cu-begin.inp"
   ]
  },
  {
   "cell_type": "code",
   "execution_count": 10,
   "id": "b5d687df",
   "metadata": {},
   "outputs": [
    {
     "name": "stdout",
     "output_type": "stream",
     "text": [
      "1                                     ! Number of species\r\n",
      "29                                    ! atomic numbers\r\n",
      "Fdata                                 ! Fdata Location\r\n"
     ]
    }
   ],
   "source": [
    "!more Fdata.inp\n",
    "\n",
    "# Result:\n",
    "# 1                                     ! Number of species\n",
    "# 29                                    ! atomic numbers\n",
    "# Fdata                                 ! Fdata Location"
   ]
  },
  {
   "cell_type": "markdown",
   "id": "f1d85957",
   "metadata": {},
   "source": [
    "## The cutoffs here reflect a 0.15 Ryd excitation - determined after running begin-looprc.x"
   ]
  },
  {
   "cell_type": "code",
   "execution_count": 11,
   "id": "d93bb198",
   "metadata": {},
   "outputs": [
    {
     "name": "stdout",
     "output_type": "stream",
     "text": [
      "Copper                   atom name\r\n",
      "Cu                       atom abbreviation\r\n",
      "29                       atomic number\r\n",
      "63.546                   atomic mass\r\n",
      "11.0                     number of valence electrons\r\n",
      "3                        exchange correlation\r\n",
      "3                        number of shells\r\n",
      "0                        angular momentum for s shell\r\n",
      "1.0                      Qneutral - number of electrons in s shell\r\n",
      "1.0                      number of electrons in s shell\r\n",
      "5.10                     cutoff radius for s shell\r\n",
      "1                        angular momentum for p shell\r\n",
      "0.0                      Qneutral - number of electrons in p shell\r\n",
      "0.0                      number of electrons in p shell\r\n",
      "5.50                     cutoff radius for p shell\r\n",
      "2                        angular momentum for d shell\r\n",
      "10.0                     Qneutral - number of electrons in d shell\r\n",
      "10.0                     number of electrons in d shell\r\n",
      "4.65                     cutoff radius for d shell\r\n",
      "0                        use excited states\r\n",
      "1                        optimize basis set with x-confinement potential\r\n",
      "0.0                      Vo for s shell\r\n",
      "0.0                      r0 for s shell\r\n",
      "10.0                     Vo for p shell\r\n",
      "0.5                      r0 for p shell\r\n",
      "0.0                      Vo for d shell\r\n",
      "0.0                      r0 for d shell\r\n"
     ]
    }
   ],
   "source": [
    "!cat Cu-begin.inp\n",
    "\n",
    "# Result:\n",
    "# Copper                   atom name\n",
    "# Cu                       atom abbreviation\n",
    "# 29                       atomic number\n",
    "# 63.546                   atomic mass\n",
    "# 11.0                     number of valence electrons\n",
    "# 3                        exchange correlation\n",
    "# 3                        number of shells\n",
    "# 0                        angular momentum for s shell\n",
    "# 1.0                      Qneutral - number of electrons in s shell\n",
    "# 1.0                      number of electrons in s shell\n",
    "# 5.10                     cutoff radius for s shell\n",
    "# 1                        angular momentum for p shell\n",
    "# 0.0                      Qneutral - number of electrons in p shell\n",
    "# 0.0                      number of electrons in p shell\n",
    "# 5.50                     cutoff radius for p shell\n",
    "# 2                        angular momentum for d shell\n",
    "# 10.0                     Qneutral - number of electrons in d shell\n",
    "# 10.0                     number of electrons in d shell\n",
    "# 4.65                     cutoff radius for d shell\n",
    "# 0                        use excited states\n",
    "# 1                        optimize basis set with x-confinement potential\n",
    "# 0.0                      Vo for s shell\n",
    "# 0.0                      r0 for s shell\n",
    "# 10.0                     Vo for p shell\n",
    "# 0.5                      r0 for p shell\n",
    "# 0.0                      Vo for d shell\n",
    "# 0.0                      r0 for d shell"
   ]
  },
  {
   "cell_type": "code",
   "execution_count": 12,
   "id": "062d5ed6",
   "metadata": {},
   "outputs": [],
   "source": [
    "# Run begin.x\n",
    "!./begin.x"
   ]
  },
  {
   "cell_type": "markdown",
   "id": "1e4f7782",
   "metadata": {},
   "source": [
    "## Plot the resulting wavefunctions and Hartree potentials"
   ]
  },
  {
   "cell_type": "code",
   "execution_count": 13,
   "id": "ee396e5e",
   "metadata": {},
   "outputs": [
    {
     "name": "stdout",
     "output_type": "stream",
     "text": [
      "['029.wf-s0.dat', '029.wf-p0.dat', '029.wf-d0.dat']\n"
     ]
    },
    {
     "data": {
      "image/png": "[encoded data removed]",
      "text/plain": [
       "<Figure size 432x288 with 1 Axes>"
      ]
     },
     "metadata": {
      "needs_background": "light"
     },
     "output_type": "display_data"
    },
    {
     "data": {
      "image/png": "[encoded data removed]",
      "text/plain": [
       "<Figure size 432x288 with 1 Axes>"
      ]
     },
     "metadata": {
      "needs_background": "light"
     },
     "output_type": "display_data"
    },
    {
     "data": {
      "image/png": "[encoded data removed]",
      "text/plain": [
       "<Figure size 432x288 with 1 Axes>"
      ]
     },
     "metadata": {
      "needs_background": "light"
     },
     "output_type": "display_data"
    },
    {
     "name": "stdout",
     "output_type": "stream",
     "text": [
      "['029.na-s0.dat', '029.na-p0.dat', '029.na-d0.dat', '029.na.dat']\n"
     ]
    },
    {
     "data": {
      "image/png": "[encoded data removed]",
      "text/plain": [
       "<Figure size 432x288 with 1 Axes>"
      ]
     },
     "metadata": {
      "needs_background": "light"
     },
     "output_type": "display_data"
    },
    {
     "data": {
      "image/png": "[encoded data removed]",
      "text/plain": [
       "<Figure size 432x288 with 1 Axes>"
      ]
     },
     "metadata": {
      "needs_background": "light"
     },
     "output_type": "display_data"
    },
    {
     "data": {
      "image/png": "[encoded data removed]",
      "text/plain": [
       "<Figure size 432x288 with 1 Axes>"
      ]
     },
     "metadata": {
      "needs_background": "light"
     },
     "output_type": "display_data"
    },
    {
     "data": {
      "image/png": "[encoded data removed]",
      "text/plain": [
       "<Figure size 432x288 with 1 Axes>"
      ]
     },
     "metadata": {
      "needs_background": "light"
     },
     "output_type": "display_data"
    }
   ],
   "source": [
    "import csv\n",
    "import glob\n",
    "\n",
    "import pandas as pd\n",
    "import matplotlib.pyplot as plt\n",
    "\n",
    "# Plot wavefunctions\n",
    "files = glob.glob('029.wf*.dat')\n",
    "print(files)\n",
    "\n",
    "### Loop over all files\n",
    "for file in files:\n",
    "    data = pd.read_csv(file,sep='\\s+',header=None)\n",
    "    data = pd.DataFrame(data)\n",
    "\n",
    "    x = data[0]\n",
    "    y = data[1]\n",
    "    plt.plot(x, y,'r--')\n",
    "    plt.show()\n",
    "    \n",
    "# Plot Hartree potentials\n",
    "files = glob.glob('029.na*.dat')\n",
    "print(files)\n",
    "\n",
    "### Loop over all files\n",
    "for file in files:\n",
    "    data = pd.read_csv(file,sep='\\s+',header=None)\n",
    "    data = pd.DataFrame(data)\n",
    "\n",
    "    x = data[0]\n",
    "    y = data[1]\n",
    "    plt.plot(x, y,'r--')\n",
    "    plt.show()"
   ]
  },
  {
   "cell_type": "markdown",
   "id": "24ace6bc",
   "metadata": {},
   "source": [
    "# Compile create.x with the following OPTIONS File:\n",
    "\n",
    "*# Options for compiling*<br>\n",
    "**SHELL = /bin/bash**\n",
    "\n",
    "*# Choose the COMPILER*<br>\n",
    "**COMPILER = ifort**\n",
    "\n",
    "*# Choose the Linear Algebra libraries*<br>\n",
    "**LINALG = MKL**\n",
    "\n",
    "*# Do you use DEBUG or Optimization Mode? (DEBUG/OPT)*<br>\n",
    "**MODE = OPT**\n",
    "\n",
    "*# Turn on omp or mpi (enter TRUE .or. FALSE)?*<br>\n",
    "**OPENMP = FALSE**<br>\n",
    "**MPI = TRUE**\n",
    "\n",
    "*# Choose the MACHINE file*<br>\n",
    "**MACHINE = HKQAI**\n",
    "\n",
    "*# Choose HORSFIELD or McWEDA*<br>\n",
    "**THEORY = MCWEDA**\n",
    "\n",
    "*# Choose HARRIS, DOGS, or KS (Kohn-Sham)*<br>\n",
    "*# Note that the KS code only does LDA for now as it uses McWEDA routines.*<br> \n",
    "**SCF = DOGS**\n",
    "\n",
    "*# Choose the DIAGONALIZATION Method - GAMMAD (divide and conquer),*<br>\n",
    "*# KPOINTS, or MDET (also GAMMA) - Default is GAMMA*<br>\n",
    "**DIAGONALIZATION = GAMMAD**\n",
    "\n",
    "*# Choose the XC functional*<br>\n",
    "**XC = LDA**\n"
   ]
  },
  {
   "cell_type": "code",
   "execution_count": null,
   "id": "6eb1d6d9",
   "metadata": {},
   "outputs": [],
   "source": [
    "# Run create-MPI.x\n",
    "!mpirun -np 2 ./create-MPI.x"
   ]
  },
  {
   "cell_type": "code",
   "execution_count": 7,
   "id": "bcd4c78d",
   "metadata": {},
   "outputs": [],
   "source": [
    "# Move the Fdata to some appropriately named Fdata\n",
    "!mv Fdata Fdata-McWEDA-0.15-3SNP.Cus5.10p5.50d4.65"
   ]
  },
  {
   "cell_type": "markdown",
   "id": "41ccea5d",
   "metadata": {},
   "source": [
    "## Preparation"
   ]
  },
  {
   "cell_type": "code",
   "execution_count": 1,
   "id": "e16adc93",
   "metadata": {},
   "outputs": [],
   "source": [
    "!cd ~/thunder2024/fireball/tests/12.copper"
   ]
  },
  {
   "cell_type": "code",
   "execution_count": 8,
   "id": "e4616300",
   "metadata": {},
   "outputs": [],
   "source": [
    "import os\n",
    "import sys\n",
    "import ase\n",
    "import numpy as np\n",
    "\n",
    "from thunder_ase.fireball import Fireball\n",
    "from ase.build import molecule\n",
    "from ase import units\n",
    "\n",
    "# Socket Communication\n",
    "from ase.calculators.socketio import SocketIOCalculator\n",
    "\n",
    "# ase BFGS optimization\n",
    "from ase.optimize import BFGS\n",
    "\n",
    "# ase MD modules\n",
    "from ase.md.npt import NPT\n",
    "from ase.md.nvtberendsen import NVTBerendsen\n",
    "from ase.constraints import Hookean"
   ]
  },
  {
   "cell_type": "code",
   "execution_count": null,
   "id": "3719ba0f",
   "metadata": {},
   "outputs": [],
   "source": []
  },
  {
   "cell_type": "markdown",
   "id": "0823d4c5",
   "metadata": {},
   "source": [
    "## NVT Ensemble - Cu Nanoparticle (79 atoms)"
   ]
  },
  {
   "cell_type": "code",
   "execution_count": 9,
   "id": "e5d7d171",
   "metadata": {},
   "outputs": [],
   "source": [
    "# clean last run result\n",
    "!./clean.com"
   ]
  },
  {
   "cell_type": "code",
   "execution_count": 10,
   "id": "90588a28",
   "metadata": {},
   "outputs": [
    {
     "name": "stdout",
     "output_type": "stream",
     "text": [
      " Error in reading from socket\n"
     ]
    },
    {
     "name": "stderr",
     "output_type": "stream",
     "text": [
      " ENDED \n"
     ]
    }
   ],
   "source": [
    "# Read Cu nanoparticle structure\n",
    "atoms = ase.io.read('init-NP.xyz')\n",
    "\n",
    "# Sockets\n",
    "host = 'thunder-ase-Cu-NP'\n",
    "\n",
    "max_step = 100\n",
    "kwargs = {'nstepi':1,\n",
    "          'nstepf':max_step+1,\n",
    "          'efermi_T': 600.0,\n",
    "          'ipi': 1,\n",
    "          'inet': 0,\n",
    "          'host': 'thunder-ase-Cu-NP',\n",
    "          'iwriteout_charges': 1,\n",
    "          }\n",
    "fireball = Fireball(command='./fireball-ase.x', Fdata_path='Fdata', **kwargs)\n",
    "\n",
    "dyn = BFGS(atoms, trajectory='opt.traj', logfile='opt.log')\n",
    "\n",
    "fireball.dynamics(dyn, steps=max_step)    "
   ]
  },
  {
   "cell_type": "code",
   "execution_count": null,
   "id": "f312bcf1",
   "metadata": {},
   "outputs": [],
   "source": []
  }
 ],
 "metadata": {
  "kernelspec": {
   "display_name": "Python 3 (ipykernel)",
   "language": "python",
   "name": "python3"
  },
  "language_info": {
   "codemirror_mode": {
    "name": "ipython",
    "version": 3
   },
   "file_extension": ".py",
   "mimetype": "text/x-python",
   "name": "python",
   "nbconvert_exporter": "python",
   "pygments_lexer": "ipython3",
   "version": "3.9.12"
  }
 },
 "nbformat": 4,
 "nbformat_minor": 5
}
